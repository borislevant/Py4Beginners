{
  "cells": [
    {
      "cell_type": "markdown",
      "metadata": {
        "id": "tMAU_-Qe-Tg-"
      },
      "source": [
        "\n",
        "![Py4Eng](https://github.com/borislevant/Py4Beginners/blob/master/sessions/img/logo.png?raw=1)\n",
        "\n",
        "# Sequences: strings, lists, for loops\n",
        "## Yoav Ram"
      ]
    },
    {
      "cell_type": "markdown",
      "metadata": {
        "id": "8c1-RxxJ-Tg_"
      },
      "source": [
        "# Strings\n",
        "\n",
        "Strings are ordered collections of _characters_.\n",
        "\n",
        "_Ordered collections_ means that elements are numbered with _indexes_: 0, 1, 2, 3, 4...  \n",
        "Note that the first index is 0, __not__ 1!\n",
        "\n",
        "We can create new string usings single- or double-quotes: `'` or `\"`."
      ]
    },
    {
      "cell_type": "code",
      "execution_count": 2,
      "metadata": {
        "id": "IyeYFVDi-ThA",
        "outputId": "7103521b-bc39-4a34-9305-cb01eb14d904",
        "colab": {
          "base_uri": "https://localhost:8080/"
        }
      },
      "outputs": [
        {
          "output_type": "stream",
          "name": "stdout",
          "text": [
            "Jupyter\n",
            "I love Python\n"
          ]
        }
      ],
      "source": [
        "x = \"Jupyter\"\n",
        "y = 'I love Python'\n",
        "print(x)\n",
        "print(y)"
      ]
    },
    {
      "cell_type": "markdown",
      "metadata": {
        "id": "5IpIiYl3-ThA"
      },
      "source": [
        "Strings are objects of type `str`:"
      ]
    },
    {
      "cell_type": "code",
      "execution_count": 3,
      "metadata": {
        "id": "Lns1XsGS-ThB",
        "outputId": "4c720030-ffb7-4a9e-81f8-e4638a9a4aa6",
        "colab": {
          "base_uri": "https://localhost:8080/"
        }
      },
      "outputs": [
        {
          "output_type": "execute_result",
          "data": {
            "text/plain": [
              "str"
            ]
          },
          "metadata": {},
          "execution_count": 3
        }
      ],
      "source": [
        "type(x)"
      ]
    },
    {
      "cell_type": "markdown",
      "metadata": {
        "id": "-lAqn7Y2-ThB"
      },
      "source": [
        "We can concat (לשרשר) strings:"
      ]
    },
    {
      "cell_type": "code",
      "execution_count": 4,
      "metadata": {
        "id": "h91sAJZT-ThB",
        "outputId": "d1224e9a-4a5d-4a4f-b7ed-79c03801eaec",
        "colab": {
          "base_uri": "https://localhost:8080/"
        }
      },
      "outputs": [
        {
          "output_type": "stream",
          "name": "stdout",
          "text": [
            "Jupyter2019\n"
          ]
        }
      ],
      "source": [
        "print(x + \"2019\")"
      ]
    },
    {
      "cell_type": "markdown",
      "metadata": {
        "id": "zoYG3lto-ThB"
      },
      "source": [
        "We can convert string to numbers and vice versa (if it is appropriate):"
      ]
    },
    {
      "cell_type": "code",
      "execution_count": 5,
      "metadata": {
        "id": "YzxsVezb-ThB",
        "outputId": "61b6ff74-9b04-4846-e930-be0873961bc5",
        "colab": {
          "base_uri": "https://localhost:8080/"
        }
      },
      "outputs": [
        {
          "output_type": "stream",
          "name": "stdout",
          "text": [
            "y + 1 = 5\n"
          ]
        }
      ],
      "source": [
        "x = \"4\"\n",
        "y = int(x)\n",
        "print(\"y + 1 =\", y + 1)"
      ]
    },
    {
      "cell_type": "markdown",
      "metadata": {
        "id": "ltEYpe2T-ThB"
      },
      "source": [
        "Otherwise, we get an error message..."
      ]
    },
    {
      "cell_type": "code",
      "execution_count": 6,
      "metadata": {
        "id": "4EPeokLB-ThB",
        "outputId": "012b5a8e-4492-4639-d9e6-669d2c0fb7fd",
        "colab": {
          "base_uri": "https://localhost:8080/",
          "height": 139
        }
      },
      "outputs": [
        {
          "output_type": "error",
          "ename": "TypeError",
          "evalue": "can only concatenate str (not \"int\") to str",
          "traceback": [
            "\u001b[0;31m---------------------------------------------------------------------------\u001b[0m",
            "\u001b[0;31mTypeError\u001b[0m                                 Traceback (most recent call last)",
            "\u001b[0;32m<ipython-input-6-ce758d702252>\u001b[0m in \u001b[0;36m<cell line: 0>\u001b[0;34m()\u001b[0m\n\u001b[0;32m----> 1\u001b[0;31m \u001b[0mprint\u001b[0m\u001b[0;34m(\u001b[0m\u001b[0;34m\"x + 1 =\"\u001b[0m\u001b[0;34m,\u001b[0m \u001b[0mx\u001b[0m \u001b[0;34m+\u001b[0m \u001b[0;36m1\u001b[0m\u001b[0;34m)\u001b[0m\u001b[0;34m\u001b[0m\u001b[0;34m\u001b[0m\u001b[0m\n\u001b[0m",
            "\u001b[0;31mTypeError\u001b[0m: can only concatenate str (not \"int\") to str"
          ]
        }
      ],
      "source": [
        "print(\"x + 1 =\", x + 1)"
      ]
    },
    {
      "cell_type": "code",
      "execution_count": 7,
      "metadata": {
        "id": "2JRD17Pj-ThB",
        "outputId": "303920e9-47fc-411a-a3a2-3c6075c3e5e4",
        "colab": {
          "base_uri": "https://localhost:8080/"
        }
      },
      "outputs": [
        {
          "output_type": "stream",
          "name": "stdout",
          "text": [
            "x = 4\n"
          ]
        }
      ],
      "source": [
        "x = str(y)\n",
        "print(\"x =\", x)"
      ]
    },
    {
      "cell_type": "code",
      "execution_count": 8,
      "metadata": {
        "id": "K5noVHgx-ThC",
        "outputId": "e786af7e-65c3-4214-fe03-0c98205ba082",
        "colab": {
          "base_uri": "https://localhost:8080/"
        }
      },
      "outputs": [
        {
          "output_type": "stream",
          "name": "stdout",
          "text": [
            "y*2 = 6.28\n"
          ]
        }
      ],
      "source": [
        "x = \"3.14\"\n",
        "y = float(x)\n",
        "print(\"y*2 =\", y * 2)"
      ]
    },
    {
      "cell_type": "markdown",
      "metadata": {
        "id": "NULeX2Tr-ThC"
      },
      "source": [
        "Strings are text but can represent other things, too. For example, DNA sequences.\n",
        "\n",
        "Again we can concat strings:"
      ]
    },
    {
      "cell_type": "code",
      "execution_count": 9,
      "metadata": {
        "id": "ZZeHoZgQ-ThC",
        "outputId": "b9ed9114-8286-485f-8f8c-44e2844e1d7e",
        "colab": {
          "base_uri": "https://localhost:8080/"
        }
      },
      "outputs": [
        {
          "output_type": "stream",
          "name": "stdout",
          "text": [
            "AAAATGGGG\n"
          ]
        }
      ],
      "source": [
        "upstream = \"AAA\"\n",
        "downstream = \"GGG\"\n",
        "dna = upstream + \"ATG\" + downstream\n",
        "print(dna)"
      ]
    },
    {
      "cell_type": "markdown",
      "metadata": {
        "id": "3XoCptWX-ThD"
      },
      "source": [
        "We can find the length of a string using the command `len`:"
      ]
    },
    {
      "cell_type": "code",
      "execution_count": 11,
      "metadata": {
        "id": "v8OEYcnd-ThD",
        "outputId": "7b09a33e-1244-4099-ad9a-0516befa30e1",
        "colab": {
          "base_uri": "https://localhost:8080/"
        }
      },
      "outputs": [
        {
          "output_type": "stream",
          "name": "stdout",
          "text": [
            "The length of the DNA variable is 15\n",
            "Now it is 21\n"
          ]
        }
      ],
      "source": [
        "n = len(dna)\n",
        "print(\"The length of the DNA variable is\", n)\n",
        "\n",
        "dna = dna + \"AGCTGA\"\n",
        "print(\"Now it is\", len(dna))"
      ]
    },
    {
      "cell_type": "markdown",
      "metadata": {
        "id": "efuXTTLx-ThD"
      },
      "source": [
        "We can use *syntactic sugar* to make `dna = dna + x` into `dna += x`:"
      ]
    },
    {
      "cell_type": "code",
      "execution_count": 12,
      "metadata": {
        "id": "OtwIpjpS-ThD",
        "outputId": "38355857-86e9-474e-f866-8efb13cb238b",
        "colab": {
          "base_uri": "https://localhost:8080/"
        }
      },
      "outputs": [
        {
          "output_type": "stream",
          "name": "stdout",
          "text": [
            "AAAATGGGGAGCTGAAGCTGA\n",
            "AAAATGGGGAGCTGAAGCTGAAGCTGA\n"
          ]
        }
      ],
      "source": [
        "print(dna)\n",
        "dna += \"AGCTGA\"\n",
        "print(dna)"
      ]
    },
    {
      "cell_type": "markdown",
      "metadata": {
        "id": "mtttUNm7-ThD"
      },
      "source": [
        "also works with numbers and other operators:"
      ]
    },
    {
      "cell_type": "code",
      "execution_count": 13,
      "metadata": {
        "id": "U7Fz8DhK-ThD",
        "outputId": "8651aeee-8163-4d9c-b3eb-22080e89ee33",
        "colab": {
          "base_uri": "https://localhost:8080/"
        }
      },
      "outputs": [
        {
          "output_type": "stream",
          "name": "stdout",
          "text": [
            "70\n"
          ]
        }
      ],
      "source": [
        "x = 10\n",
        "x *= 7\n",
        "print(x)"
      ]
    },
    {
      "cell_type": "markdown",
      "metadata": {
        "id": "3YQlRP2J-ThD"
      },
      "source": [
        "## Access: Indexing\n",
        "\n",
        "We can acces specific characters (sequence items) in a string using square brackets (`[]`):"
      ]
    },
    {
      "cell_type": "code",
      "execution_count": 14,
      "metadata": {
        "id": "9dAwMpPe-ThD"
      },
      "outputs": [],
      "source": [
        "text = \"A musician wakes from a terrible nightmare.\""
      ]
    },
    {
      "cell_type": "code",
      "execution_count": 15,
      "metadata": {
        "id": "SIhSA2cB-ThD",
        "outputId": "c2b14179-9a3c-4384-82df-1217f7f9d5bf",
        "colab": {
          "base_uri": "https://localhost:8080/"
        }
      },
      "outputs": [
        {
          "output_type": "stream",
          "name": "stdout",
          "text": [
            "A\n",
            "i\n"
          ]
        }
      ],
      "source": [
        "print(text[0])\n",
        "print(text[5])"
      ]
    },
    {
      "cell_type": "markdown",
      "metadata": {
        "id": "jf-h41q3-ThD"
      },
      "source": [
        "Python uses **zero-count** indexing: the first element has index 0.\n",
        "\n",
        "In addition, there is also support for reverse indexing using negative numbers:"
      ]
    },
    {
      "cell_type": "code",
      "execution_count": 16,
      "metadata": {
        "id": "0BRYVVXL-ThE",
        "outputId": "693b2e4c-7e13-4e71-f38e-31038b5dd684",
        "colab": {
          "base_uri": "https://localhost:8080/"
        }
      },
      "outputs": [
        {
          "output_type": "stream",
          "name": "stdout",
          "text": [
            ".\n",
            "a\n"
          ]
        }
      ],
      "source": [
        "print(text[-1])\n",
        "print(text[-4])"
      ]
    },
    {
      "cell_type": "markdown",
      "metadata": {
        "id": "iv9vbcuo-ThE"
      },
      "source": [
        "Here, the last element is accessed using -1 index, and so on."
      ]
    },
    {
      "cell_type": "markdown",
      "metadata": {
        "id": "GFU93JRN-ThE"
      },
      "source": [
        "## Access: Slicing\n",
        "We can extract subsets of a string by using _slicing_, with the corresponding indexes.  \n",
        "Remember: indexes start from **0**!"
      ]
    },
    {
      "cell_type": "markdown",
      "metadata": {
        "id": "uH05fQuj-ThE"
      },
      "source": [
        "We can access specific indexes of the list (_starting from 0_)"
      ]
    },
    {
      "cell_type": "code",
      "execution_count": 17,
      "metadata": {
        "id": "xpB2SgjX-ThE",
        "outputId": "8fae7796-6316-4a32-dbf3-5d19992ee4a6",
        "colab": {
          "base_uri": "https://localhost:8080/"
        }
      },
      "outputs": [
        {
          "output_type": "stream",
          "name": "stdout",
          "text": [
            "A\n",
            "i\n"
          ]
        }
      ],
      "source": [
        "# get the 1st and 6th letters\n",
        "print(text[0])\n",
        "print(text[5])"
      ]
    },
    {
      "cell_type": "markdown",
      "metadata": {
        "id": "dgV3DwCI-ThE"
      },
      "source": [
        "Indexes work from the tail as well, using negative indices:"
      ]
    },
    {
      "cell_type": "code",
      "execution_count": 18,
      "metadata": {
        "id": "ECsYiyRM-ThE",
        "outputId": "e0701ced-531d-49ea-c105-74778a04d4ef",
        "colab": {
          "base_uri": "https://localhost:8080/"
        }
      },
      "outputs": [
        {
          "output_type": "stream",
          "name": "stdout",
          "text": [
            ".\n",
            "m\n"
          ]
        }
      ],
      "source": [
        "# get the last letter\n",
        "print(text[-1])\n",
        "# get 5th letter from the end\n",
        "print(text[-5])"
      ]
    },
    {
      "cell_type": "markdown",
      "metadata": {
        "id": "Jz9aRt47-ThE"
      },
      "source": [
        "We can get a range of indexes using _\\[start:end\\]_"
      ]
    },
    {
      "cell_type": "code",
      "execution_count": 19,
      "metadata": {
        "id": "K2jqlWGV-ThE",
        "outputId": "ad88dc4a-dbc3-4734-f3dc-56792d06c8af",
        "colab": {
          "base_uri": "https://localhost:8080/"
        }
      },
      "outputs": [
        {
          "output_type": "stream",
          "name": "stdout",
          "text": [
            "musici\n"
          ]
        }
      ],
      "source": [
        "# get the 3rd to 8th letters\n",
        "print(text[2:8])"
      ]
    },
    {
      "cell_type": "markdown",
      "metadata": {
        "id": "Fweo3QG9-ThE"
      },
      "source": [
        "Notice that the _start_ position is included, but not the _end_ position. We actually take the character with indexes 2,3,4,5,6,7.\n",
        "And what do we get?"
      ]
    },
    {
      "cell_type": "code",
      "execution_count": 20,
      "metadata": {
        "id": "qnHGhU2h-ThF",
        "outputId": "1f10ba64-167b-4d36-da36-df9790e19338",
        "colab": {
          "base_uri": "https://localhost:8080/"
        }
      },
      "outputs": [
        {
          "output_type": "execute_result",
          "data": {
            "text/plain": [
              "str"
            ]
          },
          "metadata": {},
          "execution_count": 20
        }
      ],
      "source": [
        "type(text[2:8])"
      ]
    },
    {
      "cell_type": "markdown",
      "metadata": {
        "id": "RAPn9rb4-ThF"
      },
      "source": [
        "There are shorts for taking the first and last characters:"
      ]
    },
    {
      "cell_type": "code",
      "execution_count": 21,
      "metadata": {
        "id": "TBK3MFJe-ThF",
        "outputId": "0dfd426e-0c39-47ac-eb06-5a7d62614e36",
        "colab": {
          "base_uri": "https://localhost:8080/"
        }
      },
      "outputs": [
        {
          "output_type": "stream",
          "name": "stdout",
          "text": [
            "A mus\n",
            "A mus\n",
            "usician wakes from a terrible nightmare.\n",
            "re.\n"
          ]
        }
      ],
      "source": [
        "# get the first 5 letters\n",
        "print(text[0:5])\n",
        "# or simply:\n",
        "print(text[:5])\n",
        "\n",
        "# get 3rd to last letters:\n",
        "print(text[3:])\n",
        "\n",
        "# last 3 letters\n",
        "print(text[-3:])"
      ]
    },
    {
      "cell_type": "markdown",
      "metadata": {
        "id": "ZFHv95pm-ThF"
      },
      "source": [
        "## Exercise"
      ]
    },
    {
      "cell_type": "markdown",
      "metadata": {
        "id": "h4AIregW-ThI"
      },
      "source": [
        "The sequence below (named _seq_) consists of 20 characters.\n",
        "\n",
        "1. Print the 2nd and 7th characters.\n",
        "2. Print the 2nd character from the end.\n",
        "3. Slice the first half of the sequence.  \n",
        "4. Slice the second half of the sequence.  \n",
        "5. Slice the middle 10 characters"
      ]
    },
    {
      "cell_type": "code",
      "execution_count": 22,
      "metadata": {
        "id": "-if_mJ8a-ThJ"
      },
      "outputs": [],
      "source": [
        "seq = \"CAAGTAATGGCAGCCATTAA\"\n"
      ]
    },
    {
      "cell_type": "markdown",
      "metadata": {
        "id": "fAzXC9UC-ThJ"
      },
      "source": [
        "## Formatting string\n",
        "\n",
        "There are several ways to do this:\n",
        "1. [`printf`-style formatting](https://docs.python.org/3/library/stdtypes.html#printf-style-string-formatting), using `%`\n",
        "2. [String formatting](https://docs.python.org/3.7/library/string.html#format-string-syntax) using the `format` method\n",
        "3. [String literals](https://docs.python.org/3/reference/lexical_analysis.html#f-strings) using `f`\n",
        "4. [Template strings](https://docs.python.org/3/library/string.html#template-strings)\n",
        "\n",
        "I recommend using the `str.format` method, and ocassionally string literals.\n",
        "\n",
        "### `format` method\n",
        "\n",
        "The `format` method works on a string template, with placeholders marked by curly brackets (who said Python doesn't like curly brackets?). The method arguments are parsed to be the values for the placeholders, by order:"
      ]
    },
    {
      "cell_type": "code",
      "execution_count": 23,
      "metadata": {
        "id": "zfYScu9C-ThJ",
        "outputId": "c4dfdeb9-942d-43d2-b8d3-dd7af822ee05",
        "colab": {
          "base_uri": "https://localhost:8080/"
        }
      },
      "outputs": [
        {
          "output_type": "stream",
          "name": "stdout",
          "text": [
            "Hello Adam Price, would you like 1 or 2 apples?\n"
          ]
        }
      ],
      "source": [
        "message = \"Hello {}, would you like {} or {} apples?\"\n",
        "message = message.format(\"Adam Price\", 1, 2)\n",
        "print(message)"
      ]
    },
    {
      "cell_type": "markdown",
      "metadata": {
        "id": "-mqwT0_t-ThJ"
      },
      "source": [
        "We can also specify placeholder's replacement using indices:"
      ]
    },
    {
      "cell_type": "code",
      "execution_count": 24,
      "metadata": {
        "id": "L_cDHwPT-ThJ",
        "outputId": "fd2da21c-db58-41af-bed2-af9a318fb0a2",
        "colab": {
          "base_uri": "https://localhost:8080/"
        }
      },
      "outputs": [
        {
          "output_type": "stream",
          "name": "stdout",
          "text": [
            "Hello Adam, my name is Wendy, if your name is not Adam, please let me know\n"
          ]
        }
      ],
      "source": [
        "message = 'Hello {0}, my name is {1}, if your name is not {0}, please let me know'\n",
        "message = message.format('Adam', 'Wendy')\n",
        "print(message)"
      ]
    },
    {
      "cell_type": "markdown",
      "metadata": {
        "id": "IlpfxH-7-ThJ"
      },
      "source": [
        "Finally, we can also use named placeholders and specify the values as keyword arguments:"
      ]
    },
    {
      "cell_type": "code",
      "execution_count": 25,
      "metadata": {
        "id": "p6Y81K-c-ThJ",
        "outputId": "531e0ca7-b303-4d99-e2cf-f0b0803da15c",
        "colab": {
          "base_uri": "https://localhost:8080/"
        }
      },
      "outputs": [
        {
          "output_type": "stream",
          "name": "stdout",
          "text": [
            "Hello Adam, my name is Wendy, if your name is not Adam, please let me know\n"
          ]
        }
      ],
      "source": [
        "message = 'Hello {guest}, my name is {host}, if your name is not {guest}, please let me know'\n",
        "message = message.format(guest='Adam', host='Wendy')\n",
        "print(message)"
      ]
    },
    {
      "cell_type": "markdown",
      "metadata": {
        "id": "PbCRiA4O-ThK"
      },
      "source": [
        "Format automatically handles numbers and other string conversions:"
      ]
    },
    {
      "cell_type": "code",
      "execution_count": 26,
      "metadata": {
        "id": "s1NIHjVp-ThK",
        "outputId": "c7eaf721-114f-453b-99f3-d9e25206081b",
        "colab": {
          "base_uri": "https://localhost:8080/"
        }
      },
      "outputs": [
        {
          "output_type": "stream",
          "name": "stdout",
          "text": [
            "Snowhite and the 7 dwarfs\n",
            "Snowhite and the 7.0 dwarfs\n",
            "Snowhite and the (7+0j) dwarfs\n"
          ]
        }
      ],
      "source": [
        "print(\"Snowhite and the {} dwarfs\".format(7))\n",
        "print(\"Snowhite and the {} dwarfs\".format(7.0))\n",
        "print(\"Snowhite and the {} dwarfs\".format(7+0j))"
      ]
    },
    {
      "cell_type": "markdown",
      "metadata": {
        "id": "AWiMH1uE-ThK"
      },
      "source": [
        "But we can specify how to convert numbers, if we want; for example, we can specify the number of decimal digits we want:"
      ]
    },
    {
      "cell_type": "code",
      "execution_count": 27,
      "metadata": {
        "id": "GIYdFFnx-ThK",
        "outputId": "22a39118-eb63-41ff-e580-498a2d3d8760",
        "colab": {
          "base_uri": "https://localhost:8080/"
        }
      },
      "outputs": [
        {
          "output_type": "stream",
          "name": "stdout",
          "text": [
            "Snowhite and the 7 dwarfs\n",
            "Snowhite and the 7.0554 dwarfs\n",
            "Snowhite and the 7.055433 dwarfs\n"
          ]
        }
      ],
      "source": [
        "x = 7.0554332\n",
        "print(\"Snowhite and the {:.0f} dwarfs\".format(x))\n",
        "print(\"Snowhite and the {:.4f} dwarfs\".format(x))\n",
        "print(\"Snowhite and the {:.6f} dwarfs\".format(x))"
      ]
    },
    {
      "cell_type": "markdown",
      "metadata": {
        "id": "WkuRT9qt-ThK"
      },
      "source": [
        "See all formatting options in the [docs](https://docs.python.org/3.6/library/string.html#format-string-syntax).\n",
        "\n",
        "Python 3.6 added a new string formatting option using formatted string literals, or [f-strings](https://docs.python.org/3/reference/lexical_analysis.html#f-strings)."
      ]
    },
    {
      "cell_type": "code",
      "execution_count": 28,
      "metadata": {
        "id": "ntMkYumk-ThK",
        "outputId": "f7a0aee0-7ffa-4dbd-b57c-1a4208cc56a2",
        "colab": {
          "base_uri": "https://localhost:8080/"
        }
      },
      "outputs": [
        {
          "output_type": "stream",
          "name": "stdout",
          "text": [
            "His name is John Levin, he is 31 and he lives in 42 Main st., Sunnyvale, CA.\n"
          ]
        }
      ],
      "source": [
        "name = \"John Levin\"\n",
        "age = 31\n",
        "address = \"42 Main st., Sunnyvale, CA\"\n",
        "\n",
        "print(f\"His name is {name}, he is {age} and he lives in {address}.\")"
      ]
    },
    {
      "cell_type": "markdown",
      "metadata": {
        "id": "4F5t-Cqw-ThK"
      },
      "source": [
        "Note the `f` before the printed string!"
      ]
    },
    {
      "cell_type": "markdown",
      "metadata": {
        "id": "0qwawmi8-ThK"
      },
      "source": [
        "## Exercise - bottles of beer\n",
        "\n",
        "Write a template and fill it with values using either `format` or f-strings to produce the following text:\n",
        "\n",
        "```\n",
        "3 bottles of beer on the wall, 3 bottles of beer.\n",
        "Take one down, pass it around, 2 bottles of beer on the wall...\n",
        "2 bottles of beer on the wall, 2 bottles of beer.\n",
        "Take one down, pass it around, 1 bottles of beer on the wall...\n",
        "1 bottles of beer on the wall, 1 bottles of beer.\n",
        "Take one down, pass it around, 0 bottles of beer on the wall...\n",
        "```"
      ]
    },
    {
      "cell_type": "code",
      "execution_count": 28,
      "metadata": {
        "collapsed": true,
        "id": "buK4jXrF-ThK"
      },
      "outputs": [],
      "source": []
    },
    {
      "cell_type": "markdown",
      "metadata": {
        "id": "MI7bBQPY-ThK"
      },
      "source": [
        "## String methods\n",
        "\n",
        "We can change a string to lowercase:"
      ]
    },
    {
      "cell_type": "code",
      "execution_count": 29,
      "metadata": {
        "id": "yc2VnxJp-ThK",
        "outputId": "2ae47fec-a6d3-49c5-fc7a-a5081632eb4c",
        "colab": {
          "base_uri": "https://localhost:8080/"
        }
      },
      "outputs": [
        {
          "output_type": "stream",
          "name": "stdout",
          "text": [
            "a musician wakes from a terrible nightmare.\n"
          ]
        }
      ],
      "source": [
        "text = text.lower()\n",
        "print(text)"
      ]
    },
    {
      "cell_type": "markdown",
      "metadata": {
        "id": "-HmzlsAs-ThK"
      },
      "source": [
        "and back to uppercase:"
      ]
    },
    {
      "cell_type": "code",
      "execution_count": 30,
      "metadata": {
        "id": "VmNAgJ8P-ThK",
        "outputId": "ecff2de2-6bd6-4d7d-e467-04b948fde9b3",
        "colab": {
          "base_uri": "https://localhost:8080/"
        }
      },
      "outputs": [
        {
          "output_type": "stream",
          "name": "stdout",
          "text": [
            "A MUSICIAN WAKES FROM A TERRIBLE NIGHTMARE.\n"
          ]
        }
      ],
      "source": [
        "text = text.upper()\n",
        "print(text)"
      ]
    },
    {
      "cell_type": "markdown",
      "metadata": {
        "id": "GuwIvgZF-ThK"
      },
      "source": [
        "We can replace characters:"
      ]
    },
    {
      "cell_type": "code",
      "execution_count": 31,
      "metadata": {
        "id": "DN9164ap-ThK",
        "outputId": "f5571e38-8b48-4db7-882b-b6daeebf9411",
        "colab": {
          "base_uri": "https://localhost:8080/"
        }
      },
      "outputs": [
        {
          "output_type": "stream",
          "name": "stdout",
          "text": [
            "AAAAUGGGGAGCUGAAGCUGA\n"
          ]
        }
      ],
      "source": [
        "dna = 'AAAATGGGGAGCTGAAGCTGA'\n",
        "rna = dna.replace(\"T\", \"U\")\n",
        "print(rna)"
      ]
    },
    {
      "cell_type": "markdown",
      "metadata": {
        "id": "MvxGvqmL-ThK"
      },
      "source": [
        "#### Count\n",
        "We can count characters.\n",
        "\n",
        "For example, let's count the number of histidine (`H`) and proline (`P`) in the [amino-acid](http://upload.wikimedia.org/wikipedia/commons/a/a9/Amino_Acids.svg) sequence of the [Human Insulin](http://www.uniprot.org/blast/?about=P01308) enzyme:"
      ]
    },
    {
      "cell_type": "code",
      "execution_count": 32,
      "metadata": {
        "id": "vPhHjary-ThK",
        "outputId": "1c05d9d6-c1fe-4f70-9fb7-89dbc364fd4f",
        "colab": {
          "base_uri": "https://localhost:8080/"
        }
      },
      "outputs": [
        {
          "output_type": "stream",
          "name": "stdout",
          "text": [
            "# of histidine: 2\n",
            "# of proline: 6\n"
          ]
        }
      ],
      "source": [
        "insulin = 'MALWMRLLPLLALLALWGPDPAAAFVNQHLCGSHLVEALYLVCGERGFFYTPKTRREAEDLQVGQVELGGGPGAGSLQPLALEGSLQKRGIVEQCCTSICSLYQLENYCN'\n",
        "print(\"# of histidine:\", insulin.count('H'))\n",
        "print(\"# of proline:\", insulin.count('P'))"
      ]
    },
    {
      "cell_type": "markdown",
      "metadata": {
        "id": "kUtYq9eR-ThK"
      },
      "source": [
        "#### Find and Index\n",
        "We can find a substring within a string.\n",
        "For example, we can look for the character `D` in the insulin sequence."
      ]
    },
    {
      "cell_type": "code",
      "execution_count": 33,
      "metadata": {
        "id": "etcnMYX_-ThK",
        "outputId": "b053326e-a7ec-4f2a-f88c-b7c35f85f568",
        "colab": {
          "base_uri": "https://localhost:8080/"
        }
      },
      "outputs": [
        {
          "output_type": "stream",
          "name": "stdout",
          "text": [
            "19\n"
          ]
        }
      ],
      "source": [
        "pos = insulin.index('D')\n",
        "print(pos)"
      ]
    },
    {
      "cell_type": "code",
      "execution_count": 34,
      "metadata": {
        "id": "RuuGQTMm-ThK",
        "outputId": "60cf4246-18bb-4263-b808-2b8a0d136932",
        "colab": {
          "base_uri": "https://localhost:8080/"
        }
      },
      "outputs": [
        {
          "output_type": "execute_result",
          "data": {
            "text/plain": [
              "int"
            ]
          },
          "metadata": {},
          "execution_count": 34
        }
      ],
      "source": [
        "type(pos)"
      ]
    },
    {
      "cell_type": "code",
      "execution_count": 35,
      "metadata": {
        "id": "M5-rmQ5--ThK",
        "outputId": "a63181eb-9aca-42e2-f2f4-d6d3bc06d181",
        "colab": {
          "base_uri": "https://localhost:8080/"
        }
      },
      "outputs": [
        {
          "output_type": "stream",
          "name": "stdout",
          "text": [
            "D\n"
          ]
        }
      ],
      "source": [
        "print(insulin[pos])"
      ]
    },
    {
      "cell_type": "markdown",
      "metadata": {
        "id": "IK1Kr4q9-ThL"
      },
      "source": [
        "The result is the index (position) of the first `D` found in the sequence.\n",
        "\n",
        "We can also look for longer substrings, representing motiffs. For example, let's find the position of the Insulin [B-chain](http://www.uniprot.org/blast/?about=P01308[25-54]) - a specific subsequence - in the entire protein sequence:"
      ]
    },
    {
      "cell_type": "code",
      "execution_count": 36,
      "metadata": {
        "id": "Ipt0Mcro-ThL",
        "outputId": "795986dd-bd2f-4542-a0b2-ae42947801ca",
        "colab": {
          "base_uri": "https://localhost:8080/"
        }
      },
      "outputs": [
        {
          "output_type": "stream",
          "name": "stdout",
          "text": [
            "Position: 24\n"
          ]
        }
      ],
      "source": [
        "b_chain = \"FVNQHLCGSHLVEALYLVCGERGFFYTPKT\"\n",
        "position = insulin.index(b_chain)\n",
        "print(\"Position:\", position)"
      ]
    },
    {
      "cell_type": "code",
      "execution_count": 37,
      "metadata": {
        "id": "MZxkFI3L-ThL",
        "outputId": "cfbd1eec-2efe-4fc6-b9f2-39c91cee468d",
        "colab": {
          "base_uri": "https://localhost:8080/"
        }
      },
      "outputs": [
        {
          "output_type": "stream",
          "name": "stdout",
          "text": [
            "30\n"
          ]
        }
      ],
      "source": [
        "print(len(b_chain))"
      ]
    },
    {
      "cell_type": "code",
      "execution_count": 38,
      "metadata": {
        "id": "MBNHWgN1-ThL",
        "outputId": "660feb46-7862-449b-eed5-761ce5cb0baa",
        "colab": {
          "base_uri": "https://localhost:8080/"
        }
      },
      "outputs": [
        {
          "output_type": "stream",
          "name": "stdout",
          "text": [
            "True\n",
            "Original: FVNQHLCGSHLVEALYLVCGERGFFYTPKT\n",
            "Found:    FVNQHLCGSHLVEALYLVCGERGFFYTPKT\n"
          ]
        }
      ],
      "source": [
        "found = insulin[position : position + len(b_chain)] # slicing (notice the ':')\n",
        "print(b_chain == found)\n",
        "print(\"Original:\", b_chain)\n",
        "print(\"Found:   \", found)"
      ]
    },
    {
      "cell_type": "markdown",
      "metadata": {
        "id": "XvhLbjjA-ThL"
      },
      "source": [
        "#### Split\n",
        "\n",
        "We can split a string on every occurence of a separator character:"
      ]
    },
    {
      "cell_type": "code",
      "execution_count": 39,
      "metadata": {
        "id": "z9OYOvJp-ThL",
        "outputId": "2418890c-ef76-489d-e94f-273b44706796",
        "colab": {
          "base_uri": "https://localhost:8080/"
        }
      },
      "outputs": [
        {
          "output_type": "stream",
          "name": "stdout",
          "text": [
            "['banana', 'ananas', 'potato', 'tomato']\n"
          ]
        }
      ],
      "source": [
        "names = \"banana,ananas,potato,tomato\"\n",
        "foods = names.split(\",\")\n",
        "print(foods)"
      ]
    },
    {
      "cell_type": "markdown",
      "metadata": {
        "id": "ymLZUHva-ThL"
      },
      "source": [
        "What do we get?"
      ]
    },
    {
      "cell_type": "code",
      "execution_count": 40,
      "metadata": {
        "id": "J3V-Owyr-ThL",
        "outputId": "ec64f865-6603-4610-bebe-39a63beb4fc5",
        "colab": {
          "base_uri": "https://localhost:8080/"
        }
      },
      "outputs": [
        {
          "output_type": "execute_result",
          "data": {
            "text/plain": [
              "list"
            ]
          },
          "metadata": {},
          "execution_count": 40
        }
      ],
      "source": [
        "type(foods)"
      ]
    },
    {
      "cell_type": "markdown",
      "metadata": {
        "id": "-5JmxtdI-ThL"
      },
      "source": [
        "# Lists\n",
        "\n",
        "Lists are similar to strings in being sequential, only they can contain **any type of data**, not just characters. They are also mutable (we'll get back to that distinction).\n",
        "\n",
        "Lists could even include mixed variable types.\n",
        "\n",
        "We define a list just like any other variable, but use '[ ]' and ',' to separate elements."
      ]
    },
    {
      "cell_type": "code",
      "execution_count": 62,
      "metadata": {
        "id": "upf2-_fo-ThL",
        "outputId": "38a713a4-4986-4847-9cbc-90c5105d156d",
        "colab": {
          "base_uri": "https://localhost:8080/"
        }
      },
      "outputs": [
        {
          "output_type": "stream",
          "name": "stdout",
          "text": [
            "['Lemur', 'Gorilla', 'Chimpanzee']\n"
          ]
        }
      ],
      "source": [
        "# a list of strings\n",
        "apes = [\"Lemur\", \"Gorilla\", \"Chimpanzee\"]\n",
        "print(apes)"
      ]
    },
    {
      "cell_type": "markdown",
      "metadata": {
        "id": "r3NWSQRu-ThL"
      },
      "source": [
        "![Gorila](http://upload.wikimedia.org/wikipedia/commons/thumb/c/c0/Western_Lowland_Gorilla_at_Bronx_Zoo_2_cropped.jpg/338px-Western_Lowland_Gorilla_at_Bronx_Zoo_2_cropped.jpg)"
      ]
    },
    {
      "cell_type": "code",
      "execution_count": 63,
      "metadata": {
        "id": "X9zyLweG-ThL",
        "outputId": "5af36666-0a50-4a9c-f656-4bae5d8afb84",
        "colab": {
          "base_uri": "https://localhost:8080/"
        }
      },
      "outputs": [
        {
          "output_type": "stream",
          "name": "stdout",
          "text": [
            "[7, 13, 2, 400]\n"
          ]
        }
      ],
      "source": [
        "# a list of numbers\n",
        "nums = [7, 13, 2, 400]\n",
        "print(nums)"
      ]
    },
    {
      "cell_type": "code",
      "execution_count": 64,
      "metadata": {
        "id": "P00t1d4C-ThM",
        "outputId": "902e8991-3348-434f-cd9e-31f3e49bda81",
        "colab": {
          "base_uri": "https://localhost:8080/"
        }
      },
      "outputs": [
        {
          "output_type": "stream",
          "name": "stdout",
          "text": [
            "[12, 'Mouse', True]\n"
          ]
        }
      ],
      "source": [
        "# a mixed list\n",
        "mixed = [12, 'Mouse', True]\n",
        "print(mixed)"
      ]
    },
    {
      "cell_type": "markdown",
      "metadata": {
        "id": "0KGHAt7e-ThM"
      },
      "source": [
        "You can access list elements just like strings, using indexes (starting from 0):"
      ]
    },
    {
      "cell_type": "code",
      "execution_count": 65,
      "metadata": {
        "id": "mBeqdmew-ThM",
        "outputId": "283899e8-bfca-4a04-882e-53ef12ef3c0b",
        "colab": {
          "base_uri": "https://localhost:8080/"
        }
      },
      "outputs": [
        {
          "output_type": "stream",
          "name": "stdout",
          "text": [
            "Lemur\n",
            "Chimpanzee\n"
          ]
        }
      ],
      "source": [
        "print(apes[0])\n",
        "print(apes[-1])"
      ]
    },
    {
      "cell_type": "markdown",
      "metadata": {
        "id": "Dbmymt40-ThM"
      },
      "source": [
        "Lists are dynamic and mutable - you can append, remove and insert into them. This is done using _list methods_.\n",
        "\n",
        "We can access and change list elements:"
      ]
    },
    {
      "cell_type": "code",
      "execution_count": 67,
      "metadata": {
        "id": "b5JnvjU0-ThM",
        "outputId": "14229954-1983-4700-9c48-50c4b51acef8",
        "colab": {
          "base_uri": "https://localhost:8080/"
        }
      },
      "outputs": [
        {
          "output_type": "stream",
          "name": "stdout",
          "text": [
            "['Lemur', 'Gorilla', 'Bonobo']\n"
          ]
        }
      ],
      "source": [
        "new_apes = apes.copy() # make a copy of the apes list\n",
        "new_apes[2] = 'Bonobo'\n",
        "print(new_apes)"
      ]
    },
    {
      "cell_type": "markdown",
      "metadata": {
        "id": "t4YOGAnW-ThM"
      },
      "source": [
        "This __does NOT__ work with strings though..."
      ]
    },
    {
      "cell_type": "code",
      "execution_count": 68,
      "metadata": {
        "id": "PztsBRrF-ThM",
        "outputId": "85aa8d3a-9f35-48e2-ded4-12f50a254f1d",
        "colab": {
          "base_uri": "https://localhost:8080/",
          "height": 173
        }
      },
      "outputs": [
        {
          "output_type": "stream",
          "name": "stdout",
          "text": [
            "AAAATGGGGAGCTGAAGCTGA\n"
          ]
        },
        {
          "output_type": "error",
          "ename": "TypeError",
          "evalue": "'str' object does not support item assignment",
          "traceback": [
            "\u001b[0;31m---------------------------------------------------------------------------\u001b[0m",
            "\u001b[0;31mTypeError\u001b[0m                                 Traceback (most recent call last)",
            "\u001b[0;32m<ipython-input-68-7258de83b3f4>\u001b[0m in \u001b[0;36m<cell line: 0>\u001b[0;34m()\u001b[0m\n\u001b[1;32m      1\u001b[0m \u001b[0mprint\u001b[0m\u001b[0;34m(\u001b[0m\u001b[0mdna\u001b[0m\u001b[0;34m)\u001b[0m\u001b[0;34m\u001b[0m\u001b[0;34m\u001b[0m\u001b[0m\n\u001b[0;32m----> 2\u001b[0;31m \u001b[0mdna\u001b[0m\u001b[0;34m[\u001b[0m\u001b[0;36m5\u001b[0m\u001b[0;34m]\u001b[0m \u001b[0;34m=\u001b[0m \u001b[0;34m'G'\u001b[0m\u001b[0;34m\u001b[0m\u001b[0;34m\u001b[0m\u001b[0m\n\u001b[0m",
            "\u001b[0;31mTypeError\u001b[0m: 'str' object does not support item assignment"
          ]
        }
      ],
      "source": [
        "print(dna)\n",
        "dna[5] = 'G'"
      ]
    },
    {
      "cell_type": "markdown",
      "metadata": {
        "id": "uwcSOIoB-ThM"
      },
      "source": [
        "This is because strings are **immutable** whereas lists are **mutable**. We'll get back to this notion soon."
      ]
    },
    {
      "cell_type": "markdown",
      "metadata": {
        "id": "HFlxruZb-ThM"
      },
      "source": [
        "### More list methods\n",
        "\n",
        "Add element to the end of the list:"
      ]
    },
    {
      "cell_type": "code",
      "execution_count": 69,
      "metadata": {
        "id": "piHv_rmZ-ThM",
        "outputId": "367d3f5c-504e-4a59-9df3-09f6af3f6c17",
        "colab": {
          "base_uri": "https://localhost:8080/"
        }
      },
      "outputs": [
        {
          "output_type": "stream",
          "name": "stdout",
          "text": [
            "['Lemur', 'Gorilla', 'Chimpanzee', 'Macaco']\n"
          ]
        }
      ],
      "source": [
        "apes.append(\"Macaco\")\n",
        "print(apes)"
      ]
    },
    {
      "cell_type": "markdown",
      "metadata": {
        "id": "Wsvmynyd-ThM"
      },
      "source": [
        "Insert element at a given index:"
      ]
    },
    {
      "cell_type": "code",
      "execution_count": 70,
      "metadata": {
        "id": "Y23SSL1r-ThM",
        "outputId": "9c9aef82-10a6-4ca2-9f60-73bffff7beb1",
        "colab": {
          "base_uri": "https://localhost:8080/"
        }
      },
      "outputs": [
        {
          "output_type": "stream",
          "name": "stdout",
          "text": [
            "['Lemur', 'Gorilla', 'Kofiko', 'Chimpanzee', 'Macaco']\n"
          ]
        }
      ],
      "source": [
        "apes.insert(2, \"Kofiko\")\n",
        "print(apes)"
      ]
    },
    {
      "cell_type": "markdown",
      "metadata": {
        "id": "eeCoQlht-ThM"
      },
      "source": [
        "Remove element from list:"
      ]
    },
    {
      "cell_type": "code",
      "execution_count": 71,
      "metadata": {
        "id": "57WxotRc-ThM",
        "outputId": "d1a067e5-217a-4e2c-beb1-7732e4254ff1",
        "colab": {
          "base_uri": "https://localhost:8080/"
        }
      },
      "outputs": [
        {
          "output_type": "stream",
          "name": "stdout",
          "text": [
            "['Gorilla', 'Kofiko', 'Chimpanzee', 'Macaco']\n"
          ]
        }
      ],
      "source": [
        "apes.remove(\"Lemur\")\n",
        "print(apes)"
      ]
    },
    {
      "cell_type": "markdown",
      "metadata": {
        "id": "TJ-1q95y-ThM"
      },
      "source": [
        "To remove a list item by index:"
      ]
    },
    {
      "cell_type": "code",
      "execution_count": 72,
      "metadata": {
        "id": "RdIpwuBt-ThM",
        "outputId": "606417fb-9431-4906-d99b-6a63a831a7e5",
        "colab": {
          "base_uri": "https://localhost:8080/"
        }
      },
      "outputs": [
        {
          "output_type": "stream",
          "name": "stdout",
          "text": [
            "Macaco\n",
            "['Gorilla', 'Kofiko', 'Chimpanzee']\n"
          ]
        }
      ],
      "source": [
        "print(apes.pop(3))\n",
        "print(apes)"
      ]
    },
    {
      "cell_type": "markdown",
      "metadata": {
        "id": "-wy3hWnH-ThM"
      },
      "source": [
        "We can concat lists, just like strings:"
      ]
    },
    {
      "cell_type": "code",
      "execution_count": 73,
      "metadata": {
        "id": "FZ8KyM3M-ThM",
        "outputId": "64b958c2-e671-45c4-993c-852915c2605e",
        "colab": {
          "base_uri": "https://localhost:8080/"
        }
      },
      "outputs": [
        {
          "output_type": "stream",
          "name": "stdout",
          "text": [
            "['Gorilla', 'Kofiko', 'Chimpanzee', 'Orangutan', 'Baboon']\n"
          ]
        }
      ],
      "source": [
        "print(apes + [\"Orangutan\", \"Baboon\"])"
      ]
    },
    {
      "cell_type": "markdown",
      "metadata": {
        "id": "9pNxI1lK-ThM"
      },
      "source": [
        "![Organutan](http://upload.wikimedia.org/wikipedia/commons/thumb/b/be/Orang_Utan%2C_Semenggok_Forest_Reserve%2C_Sarawak%2C_Borneo%2C_Malaysia.JPG/220px-Orang_Utan%2C_Semenggok_Forest_Reserve%2C_Sarawak%2C_Borneo%2C_Malaysia.JPG)\n",
        "\n",
        "Searching in lists is done using `index` (not `find`):"
      ]
    },
    {
      "cell_type": "code",
      "execution_count": 74,
      "metadata": {
        "id": "YE2XGejk-ThN",
        "outputId": "6649ab49-3128-4e1a-e483-1b61d6e421f2",
        "colab": {
          "base_uri": "https://localhost:8080/"
        }
      },
      "outputs": [
        {
          "output_type": "stream",
          "name": "stdout",
          "text": [
            "1\n",
            "Kofiko\n"
          ]
        }
      ],
      "source": [
        "i = apes.index('Kofiko')\n",
        "print(i)\n",
        "print(apes[i])"
      ]
    },
    {
      "cell_type": "markdown",
      "metadata": {
        "id": "q_L67LEQ-ThN"
      },
      "source": [
        "If the value is not found an error is raised. We'll learn how to deal with exceptions in another session.\n",
        "For now, we can just find it with a loop, which we will learn in a few minutes."
      ]
    },
    {
      "cell_type": "markdown",
      "metadata": {
        "id": "CDFNjoDj-ThN"
      },
      "source": [
        "You can also check if something is in a list (works as well for strings):"
      ]
    },
    {
      "cell_type": "code",
      "execution_count": 75,
      "metadata": {
        "id": "z9NF-Piy-ThN",
        "outputId": "a4aace9c-fef8-4e10-d528-b3edfc58be78",
        "colab": {
          "base_uri": "https://localhost:8080/"
        }
      },
      "outputs": [
        {
          "output_type": "stream",
          "name": "stdout",
          "text": [
            "Panda is not an ape\n"
          ]
        }
      ],
      "source": [
        "if 'Panda' in apes:\n",
        "    print('Panda is an ape')\n",
        "else:\n",
        "    print('Panda is not an ape')"
      ]
    },
    {
      "cell_type": "markdown",
      "metadata": {
        "id": "eW3bEEbz-ThN"
      },
      "source": [
        "## Lists of numbers\n",
        "\n",
        "Suppose we have a list of experimental measurements and we want to do basic statistics: count the number of results, calculate the average, and find the maximum and minimum."
      ]
    },
    {
      "cell_type": "code",
      "execution_count": 77,
      "metadata": {
        "id": "fsyUSvnZ-ThN",
        "outputId": "f88610ec-17e6-410c-f9b3-f0781ae4abcc",
        "colab": {
          "base_uri": "https://localhost:8080/"
        }
      },
      "outputs": [
        {
          "output_type": "stream",
          "name": "stdout",
          "text": [
            "27 measurements with average 68.07407407407408 maximum 100 minimum 12\n"
          ]
        }
      ],
      "source": [
        "measurements = [33,55,45,87,88,95,34,76,87,56,45,98,87,89,45,67,45,67,76,73,33,87,12,100,77,89,92]\n",
        "\n",
        "count = len(measurements)\n",
        "avg = sum(measurements) / len(measurements)\n",
        "maximum = max(measurements)\n",
        "minimum = min(measurements)\n",
        "\n",
        "print(count, \"measurements with average\", avg, \"maximum\", maximum, \"minimum\", minimum)"
      ]
    },
    {
      "cell_type": "markdown",
      "metadata": {
        "id": "kjtQhJlV-ThN"
      },
      "source": [
        "We'll see a better way to work with sequences of numbers, though, using NumPy."
      ]
    },
    {
      "cell_type": "markdown",
      "metadata": {
        "id": "rxX5thG9-ThN"
      },
      "source": [
        "## Sorting lists\n",
        "  \n",
        "We can sort lists using the `sorted` method.  \n",
        "If the list is made __entirely__ of numbers, then sorting is straightforward:"
      ]
    },
    {
      "cell_type": "code",
      "execution_count": 78,
      "metadata": {
        "id": "oerUffoy-ThN",
        "outputId": "3c581034-9dd9-46e1-fd5e-fc79d86671f4",
        "colab": {
          "base_uri": "https://localhost:8080/"
        }
      },
      "outputs": [
        {
          "output_type": "stream",
          "name": "stdout",
          "text": [
            "[12, 33, 33, 34, 45, 45, 45, 45, 55, 56, 67, 67, 73, 76, 76, 77, 87, 87, 87, 87, 88, 89, 89, 92, 95, 98, 100]\n"
          ]
        }
      ],
      "source": [
        "sorted_measurements = sorted(measurements)\n",
        "print(sorted_measurements)"
      ]
    },
    {
      "cell_type": "markdown",
      "metadata": {
        "id": "t4egxI4w-ThN"
      },
      "source": [
        "A list of strings will be sorted lexicographically (think about the way '<' and '>' work on strings):"
      ]
    },
    {
      "cell_type": "code",
      "execution_count": 79,
      "metadata": {
        "id": "PIMaqAu8-ThN",
        "outputId": "324fa42e-92fb-4027-f490-02abf5caf131",
        "colab": {
          "base_uri": "https://localhost:8080/"
        }
      },
      "outputs": [
        {
          "output_type": "stream",
          "name": "stdout",
          "text": [
            "['Chimpanzee', 'Gorilla', 'Kofiko']\n"
          ]
        }
      ],
      "source": [
        "sorted_apes = sorted(apes)\n",
        "print(sorted_apes)"
      ]
    },
    {
      "cell_type": "markdown",
      "metadata": {
        "id": "Wbg5EFUp-ThN"
      },
      "source": [
        "But beware of mixed lists!"
      ]
    },
    {
      "cell_type": "code",
      "execution_count": 81,
      "metadata": {
        "id": "QDNKByFY-ThN",
        "outputId": "434ca629-6807-4713-8e16-f44c653de115",
        "colab": {
          "base_uri": "https://localhost:8080/",
          "height": 210
        }
      },
      "outputs": [
        {
          "output_type": "stream",
          "name": "stdout",
          "text": [
            "['Gorilla', 'Kofiko', 'Chimpanzee', 33, 55, 45, 87, 88, 95, 34, 76, 87, 56, 45, 98, 87, 89, 45, 67, 45, 67, 76, 73, 33, 87, 12, 100, 77, 89, 92]\n"
          ]
        },
        {
          "output_type": "error",
          "ename": "TypeError",
          "evalue": "'<' not supported between instances of 'int' and 'str'",
          "traceback": [
            "\u001b[0;31m---------------------------------------------------------------------------\u001b[0m",
            "\u001b[0;31mTypeError\u001b[0m                                 Traceback (most recent call last)",
            "\u001b[0;32m<ipython-input-81-f076fd654044>\u001b[0m in \u001b[0;36m<cell line: 0>\u001b[0;34m()\u001b[0m\n\u001b[1;32m      1\u001b[0m \u001b[0mmixed\u001b[0m \u001b[0;34m=\u001b[0m \u001b[0mapes\u001b[0m \u001b[0;34m+\u001b[0m \u001b[0mmeasurements\u001b[0m\u001b[0;34m\u001b[0m\u001b[0;34m\u001b[0m\u001b[0m\n\u001b[1;32m      2\u001b[0m \u001b[0mprint\u001b[0m\u001b[0;34m(\u001b[0m\u001b[0mmixed\u001b[0m\u001b[0;34m)\u001b[0m\u001b[0;34m\u001b[0m\u001b[0;34m\u001b[0m\u001b[0m\n\u001b[0;32m----> 3\u001b[0;31m \u001b[0mprint\u001b[0m\u001b[0;34m(\u001b[0m\u001b[0msorted\u001b[0m\u001b[0;34m(\u001b[0m\u001b[0mmixed\u001b[0m\u001b[0;34m)\u001b[0m\u001b[0;34m)\u001b[0m\u001b[0;34m\u001b[0m\u001b[0;34m\u001b[0m\u001b[0m\n\u001b[0m",
            "\u001b[0;31mTypeError\u001b[0m: '<' not supported between instances of 'int' and 'str'"
          ]
        }
      ],
      "source": [
        "mixed = apes + measurements\n",
        "print(mixed)\n",
        "print(sorted(mixed))"
      ]
    },
    {
      "cell_type": "markdown",
      "metadata": {
        "id": "xq0fNl1J-ThN"
      },
      "source": [
        "## List of lists (nested lists)\n",
        "  \n",
        "List elements can be of any type, including lists!  \n",
        "For example:"
      ]
    },
    {
      "cell_type": "code",
      "execution_count": 82,
      "metadata": {
        "id": "WRunhwMm-ThN",
        "outputId": "1287f43d-0376-4118-ed9b-1cb6d991cca4",
        "colab": {
          "base_uri": "https://localhost:8080/"
        }
      },
      "outputs": [
        {
          "output_type": "stream",
          "name": "stdout",
          "text": [
            "[['Gorilla', 'Kofiko', 'Chimpanzee'], ['Gallus gallus', 'Corvus corone', 'Passer domesticus'], ['Ophiophagus hannah', 'Vipera palaestinae', 'Python bivittatus']]\n"
          ]
        }
      ],
      "source": [
        "birds = ['Gallus gallus', 'Corvus corone', 'Passer domesticus']\n",
        "snakes = ['Ophiophagus hannah', 'Vipera palaestinae', 'Python bivittatus']\n",
        "animals = [apes, birds, snakes]\n",
        "print(animals)"
      ]
    },
    {
      "cell_type": "markdown",
      "metadata": {
        "id": "I98GGv30-ThN"
      },
      "source": [
        "We access lists of lists using double-indexes. For example, to get the 3rd snake:"
      ]
    },
    {
      "cell_type": "code",
      "execution_count": 83,
      "metadata": {
        "id": "3zCCU_o_-ThN",
        "outputId": "ce9a8bc9-485a-4d38-faba-1c3b236c152e",
        "colab": {
          "base_uri": "https://localhost:8080/"
        }
      },
      "outputs": [
        {
          "output_type": "stream",
          "name": "stdout",
          "text": [
            "Python bivittatus\n"
          ]
        }
      ],
      "source": [
        "print(animals[2][2])"
      ]
    },
    {
      "cell_type": "markdown",
      "metadata": {
        "id": "bP_4o1ax-ThN"
      },
      "source": [
        "Note that the elements of the outer list are __lists__ themselves, not strings. For example:"
      ]
    },
    {
      "cell_type": "code",
      "execution_count": 84,
      "metadata": {
        "id": "iZIaeaDl-ThN",
        "outputId": "6438c666-2a90-412f-ed86-0ae23a3a40c8",
        "colab": {
          "base_uri": "https://localhost:8080/"
        }
      },
      "outputs": [
        {
          "output_type": "execute_result",
          "data": {
            "text/plain": [
              "list"
            ]
          },
          "metadata": {},
          "execution_count": 84
        }
      ],
      "source": [
        "type(animals[1])"
      ]
    },
    {
      "cell_type": "markdown",
      "metadata": {
        "id": "hy9erbXk-ThN"
      },
      "source": [
        "## Slicing\n",
        "  \n",
        "We can slice lists just like we did with strings, to get partial lists.  \n",
        "For example:"
      ]
    },
    {
      "cell_type": "code",
      "execution_count": 85,
      "metadata": {
        "id": "fpbmEYuX-ThN",
        "outputId": "5830ec50-3298-454a-868d-9e0558a44558",
        "colab": {
          "base_uri": "https://localhost:8080/"
        }
      },
      "outputs": [
        {
          "output_type": "stream",
          "name": "stdout",
          "text": [
            "[33, 55, 45, 87, 88, 95, 34, 76, 87, 56]\n",
            "[77, 89, 92]\n"
          ]
        }
      ],
      "source": [
        "# get the first 10 measurements\n",
        "print(measurements[:10])\n",
        "# get the last 3 measurements\n",
        "print(measurements[-3:])"
      ]
    },
    {
      "cell_type": "markdown",
      "metadata": {
        "id": "5FZ4-xAS-ThN"
      },
      "source": [
        "## Exercise\n",
        "\n",
        "- Use the lists `birds` and `snakes` defined above to create a single list of strings with the animal names.\n",
        "- Add the string `Mus musculus` to the list.\n",
        "- Remove the `Corvus corone` from the list.\n",
        "- Print the 2nd to 5th elements of the resulting list, sorted alphabetically."
      ]
    },
    {
      "cell_type": "code",
      "execution_count": null,
      "metadata": {
        "id": "Frs2w-dY-ThN"
      },
      "outputs": [],
      "source": []
    },
    {
      "cell_type": "markdown",
      "metadata": {
        "id": "7WBfzJiZ-ThN"
      },
      "source": [
        "# `for` loops\n",
        "\n",
        "Say we want to print each element of our list:"
      ]
    },
    {
      "cell_type": "markdown",
      "metadata": {
        "id": "CbeXoqAw-ThN"
      },
      "source": [
        "Python’s `for` loop syntax allows us to iterate over the elements of a `list`, or any `iterable` value. Python's `for` is similar to the `foreach` statement in other languages, rather than `for(i=0; i<n; i++)`:\n",
        "\n",
        "```py\n",
        "for loop_variable in iterable:\n",
        "    statement1\n",
        "    statement2\n",
        "    statement3\n",
        "    ...\n",
        "```"
      ]
    },
    {
      "cell_type": "code",
      "execution_count": null,
      "metadata": {
        "id": "NVakvVZn-ThN"
      },
      "outputs": [],
      "source": [
        "for ape in apes:\n",
        "    print(ape, \"is an ape\")"
      ]
    },
    {
      "cell_type": "markdown",
      "metadata": {
        "id": "5qzbA9d5-ThN"
      },
      "source": [
        "![Python loop](http://2.bp.blogspot.com/-7lXe1_Gou3k/UX92PWche3I/AAAAAAAAAFA/JxD4u8St-9g/s1600/python+loop.jpg)\n",
        "\n",
        "A more complex loop will go over each ape name and print some stats:"
      ]
    },
    {
      "cell_type": "code",
      "execution_count": null,
      "metadata": {
        "id": "7qilH6bb-ThO"
      },
      "outputs": [],
      "source": [
        "for ape in apes:\n",
        "    name_length = len(ape)\n",
        "    first_letter = ape[0]\n",
        "    print(ape, \"is an ape. Its name starts with\", first_letter)\n",
        "    print(\"Its name has\", name_length, \"letters\")"
      ]
    },
    {
      "cell_type": "markdown",
      "metadata": {
        "id": "ALJSs5II-ThO"
      },
      "source": [
        "### String loop\n",
        "\n",
        "Let's go over the Insulin AA sequnce and count the number of prolines manualy. Reminder: `insulin` is a `str`, not `list`."
      ]
    },
    {
      "cell_type": "code",
      "execution_count": null,
      "metadata": {
        "id": "RwCgFP28-ThO"
      },
      "outputs": [],
      "source": [
        "count = 0\n",
        "for aa in insulin:\n",
        "    # the next line is equivalent to\n",
        "    # if aa == \"P\": count = count + 1\n",
        "    count += aa == \"P\"\n",
        "print(\"# of prolines:\", count)"
      ]
    },
    {
      "cell_type": "markdown",
      "metadata": {
        "id": "VTERh2d7-ThO"
      },
      "source": [
        "Do you remember another way of doing this?\n",
        "\n",
        "Let's count how many measurements (see above) are above the average:"
      ]
    },
    {
      "cell_type": "code",
      "execution_count": null,
      "metadata": {
        "id": "yYfaijIF-ThO"
      },
      "outputs": [],
      "source": [
        "print(measurements)\n",
        "print(avg)"
      ]
    },
    {
      "cell_type": "code",
      "execution_count": null,
      "metadata": {
        "id": "NTdNffNN-ThO"
      },
      "outputs": [],
      "source": [
        "over = 0\n",
        "for x in measurements:\n",
        "    over += x > avg\n",
        "print(over, \"measurements are over the average.\")"
      ]
    },
    {
      "cell_type": "markdown",
      "metadata": {
        "id": "A-rs4TKF-ThO"
      },
      "source": [
        "## Exercise"
      ]
    },
    {
      "cell_type": "markdown",
      "metadata": {
        "id": "H4TRxWb3-ThO"
      },
      "source": [
        "Complete the code below to count the _ratio_ of electrically-charged amino acids in the Insulin sequence."
      ]
    },
    {
      "cell_type": "code",
      "execution_count": null,
      "metadata": {
        "id": "TooU41a1-ThO"
      },
      "outputs": [],
      "source": [
        "charged = ['R','H','K','D','E']\n",
        "insulin = 'MALWMRLLPLLALLALWGPDPAAAFVNQHLCGSHLVEALYLVCGERGFFYTPKTRREAEDLQVGQVELGGGPGAGSLQPLALEGSLQKRGIVEQCCTSICSLYQLENYCN'\n",
        "\n",
        "# Your code here\n",
        "\n",
        "print(\"Ratio of charged amino acids is:\", charged_ratio)"
      ]
    },
    {
      "cell_type": "markdown",
      "metadata": {
        "id": "tjXkfmdR-ThO"
      },
      "source": [
        "# `range`\n",
        "\n",
        "Sometimes we want to loop over consecutive numbers.\n",
        "\n",
        "This is accomplished using the `range` function.\n",
        "\n",
        "`range` accepts one, two, or three arguments: the bottom and upper limits and the step size.  \n",
        "The bottom limit can be omitted - the default is zero - and the step can be omitted, too - the default is one.\n",
        "The upper limit is __not__ included."
      ]
    },
    {
      "cell_type": "code",
      "execution_count": null,
      "metadata": {
        "id": "yYHWfrb9-ThO"
      },
      "outputs": [],
      "source": [
        "for i in range(10): # == range(0, 10, 1)\n",
        "    print(i)"
      ]
    },
    {
      "cell_type": "code",
      "execution_count": null,
      "metadata": {
        "id": "ln7EVn5b-ThO"
      },
      "outputs": [],
      "source": [
        "for i in range(10, 20):\n",
        "    print(i, end=' ')    # print ends with space instead of newline"
      ]
    },
    {
      "cell_type": "code",
      "execution_count": null,
      "metadata": {
        "id": "0EE7xo7O-ThO"
      },
      "outputs": [],
      "source": [
        "for i in range(100, 1000, 10):\n",
        "    print(i, end=' ')"
      ]
    },
    {
      "cell_type": "markdown",
      "metadata": {
        "id": "iJAWs1Xf-ThO"
      },
      "source": [
        "We can turn the range into a list (more on this in the [iteration session](iteration.ipynb):"
      ]
    },
    {
      "cell_type": "code",
      "execution_count": null,
      "metadata": {
        "id": "XY_ZbYL0-ThO"
      },
      "outputs": [],
      "source": [
        "list(range(10))"
      ]
    },
    {
      "cell_type": "markdown",
      "metadata": {
        "id": "g8SSj_Jd-ThO"
      },
      "source": [
        "### Example  - primality check\n",
        "\n",
        "Let's check if the number `n` is a prime number - that is, it can only be divided by 1 and itself:"
      ]
    },
    {
      "cell_type": "code",
      "execution_count": null,
      "metadata": {
        "id": "zB1A_6KQ-ThO"
      },
      "outputs": [],
      "source": [
        "n = 97 # try other numbers\n",
        "divider = 1\n",
        "\n",
        "for k in range(2, n): # why start at 2? can we choose a different limit to range? a different step perhaps?\n",
        "    if n % k == 0:\n",
        "        divider = k\n",
        "if divider != 1:\n",
        "    print(n, \"is divided by\", divider)\n",
        "else:\n",
        "    print(n, \"is a prime number\")"
      ]
    },
    {
      "cell_type": "markdown",
      "metadata": {
        "id": "x8A6-rS_-ThO"
      },
      "source": [
        "We can also use `range()` to loop on the indices of a list instead of the elements themselves. This is useful in some cases."
      ]
    },
    {
      "cell_type": "code",
      "execution_count": null,
      "metadata": {
        "id": "Ryn5qnxq-ThO"
      },
      "outputs": [],
      "source": [
        "for i in range(len(apes)):\n",
        "    print(apes[i])"
      ]
    },
    {
      "cell_type": "markdown",
      "metadata": {
        "id": "MDHbtqgx-ThO"
      },
      "source": [
        "## `enumerate`\n",
        "\n",
        "Another elegant way to iterate over lists is with the `enumerate` function. `enumerate` provides two loop variables for every item in the list -- the index and the element:"
      ]
    },
    {
      "cell_type": "code",
      "execution_count": null,
      "metadata": {
        "id": "wK6jEsUS-ThP"
      },
      "outputs": [],
      "source": [
        "cities = ['Tel-Aviv', 'Jerusalem', 'Haifa', 'Rehovot']\n",
        "for i, city in enumerate(cities):\n",
        "    print(\"The\", i, \"city is\", city)"
      ]
    },
    {
      "cell_type": "markdown",
      "metadata": {
        "id": "iDaYCaQh-ThP"
      },
      "source": [
        "## Exercise\n",
        "\n",
        "Write a nested for loop that creates the identiy matrix of size `n`. A matrix is represented by a list of lists. Finally, print the matrix."
      ]
    },
    {
      "cell_type": "code",
      "execution_count": null,
      "metadata": {
        "id": "6Fn0Twi5-ThP"
      },
      "outputs": [],
      "source": [
        "n = 4\n"
      ]
    },
    {
      "cell_type": "markdown",
      "metadata": {
        "id": "t0yxsMV2-ThP"
      },
      "source": [
        "# Tuples\n",
        "\n",
        "[Tuples](https://docs.python.org/3.5/tutorial/datastructures.html#tuples-and-sequences) are another data structure for sequential data. They, too, can contain any type and mixed types. The main difference between tuples and lists is that tuples are **immutable**.\n",
        "\n",
        "Tuples are denoted by round brackets `()`:"
      ]
    },
    {
      "cell_type": "code",
      "execution_count": null,
      "metadata": {
        "id": "L1isFu_c-ThP"
      },
      "outputs": [],
      "source": [
        "t = (15, 76, 'a')\n",
        "print(t)\n",
        "type(t)"
      ]
    },
    {
      "cell_type": "markdown",
      "metadata": {
        "id": "_IIF5sQ7-ThP"
      },
      "source": [
        "Tuples are commonly packed and unpacked in Python:"
      ]
    },
    {
      "cell_type": "code",
      "execution_count": null,
      "metadata": {
        "id": "wXgc5Hp8-ThP"
      },
      "outputs": [],
      "source": [
        "a, b, c = t # unpacking\n",
        "print('a:', a, 'b:', b, 'c:', c)\n",
        "t = a, b # packing\n",
        "print(t)"
      ]
    },
    {
      "cell_type": "markdown",
      "metadata": {
        "id": "714yglpt-ThP"
      },
      "source": [
        "You can also create empty and singleton tuples:"
      ]
    },
    {
      "cell_type": "code",
      "execution_count": null,
      "metadata": {
        "id": "dQTN0E62-ThP"
      },
      "outputs": [],
      "source": [
        "t0 = ()\n",
        "type(t0)"
      ]
    },
    {
      "cell_type": "code",
      "execution_count": null,
      "metadata": {
        "id": "_fRK3HtR-ThP"
      },
      "outputs": [],
      "source": [
        "t1 = (5,) # notice the comma\n",
        "type(t1)"
      ]
    },
    {
      "cell_type": "markdown",
      "metadata": {
        "id": "jWzqOGvK-ThP"
      },
      "source": [
        "## Colophon\n",
        "This notebook was written by [Yoav Ram](http://python.yoavram.com) and is part of the [_Python for Engineers_](https://github.com/yoavram/Py4Eng) course.\n",
        "\n",
        "The notebook was written using [Python](http://python.org/) 3.6.1.\n",
        "Dependencies listed in [environment.yml](../environment.yml), full versions in [environment_full.yml](../environment_full.yml).\n",
        "\n",
        "This work is licensed under a CC BY-NC-SA 4.0 International License.\n",
        "\n",
        "![Python logo](https://www.python.org/static/community_logos/python-logo.png)"
      ]
    }
  ],
  "metadata": {
    "kernelspec": {
      "display_name": "Python [default]",
      "language": "python",
      "name": "python3"
    },
    "language_info": {
      "codemirror_mode": {
        "name": "ipython",
        "version": 3
      },
      "file_extension": ".py",
      "mimetype": "text/x-python",
      "name": "python",
      "nbconvert_exporter": "python",
      "pygments_lexer": "ipython3",
      "version": "3.6.7"
    },
    "colab": {
      "provenance": []
    }
  },
  "nbformat": 4,
  "nbformat_minor": 0
}